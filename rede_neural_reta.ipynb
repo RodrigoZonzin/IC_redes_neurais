{
 "cells": [
  {
   "cell_type": "code",
   "execution_count": null,
   "id": "0e88f0db",
   "metadata": {},
   "outputs": [],
   "source": [
    "#!pip install torch "
   ]
  },
  {
   "cell_type": "code",
   "execution_count": null,
   "id": "a5a72fa8",
   "metadata": {},
   "outputs": [],
   "source": [
    "import torch\n",
    "import numpy as np\n",
    "from torch import nn\n",
    "from math import cos, sin"
   ]
  },
  {
   "cell_type": "code",
   "execution_count": null,
   "id": "6d7c3862",
   "metadata": {},
   "outputs": [],
   "source": [
    "class LineNetwork(nn.Module):\n",
    "  # Inicialização\n",
    "  def __init__(self):\n",
    "    super().__init__()\n",
    "    self.layers = nn.Sequential(\n",
    "        nn.Linear(1, 1)\n",
    "    )\n",
    "\n",
    "  # Como a rede computa\n",
    "  def forward(self, x):\n",
    "    return self.layers(x)"
   ]
  },
  {
   "cell_type": "code",
   "execution_count": null,
   "id": "e781fa80",
   "metadata": {},
   "outputs": [],
   "source": [
    "from torch.utils.data import Dataset, DataLoader\n",
    "import torch.distributions.uniform as urand"
   ]
  },
  {
   "cell_type": "code",
   "execution_count": null,
   "id": "55eaab99",
   "metadata": {},
   "outputs": [],
   "source": [
    "class AlgebraicDataset(Dataset):\n",
    "  def __init__(self, f, interval, nsamples):\n",
    "    X = urand.Uniform(interval[0], interval[1]).sample([nsamples])\n",
    "    self.data = [(x, f(x)) for x in X]\n",
    "\n",
    "  def __len__(self):\n",
    "    return len(self.data)\n",
    "\n",
    "  def __getitem__(self, idx):\n",
    "    return self.data[idx]"
   ]
  },
  {
   "cell_type": "code",
   "execution_count": null,
   "id": "db6d84c6",
   "metadata": {},
   "outputs": [],
   "source": [
    "\n",
    "line = lambda x: -2.56*x + 5.64\n",
    "interval = (-10, 10)\n",
    "train_nsamples = 10000\n",
    "test_nsamples = 1000"
   ]
  },
  {
   "cell_type": "code",
   "execution_count": null,
   "id": "f23501fa",
   "metadata": {},
   "outputs": [],
   "source": [
    "train_dataset = AlgebraicDataset(line, interval, train_nsamples)\n",
    "test_dataset = AlgebraicDataset(line, interval, test_nsamples)\n",
    "\n",
    "train_dataloader = DataLoader(train_dataset, batch_size=train_nsamples, shuffle=True)\n",
    "test_dataloader = DataLoader(test_dataset, batch_size=test_nsamples, shuffle=True)"
   ]
  },
  {
   "cell_type": "code",
   "execution_count": null,
   "id": "c34ec4b2",
   "metadata": {},
   "outputs": [],
   "source": [
    "device = \"cuda\" if torch.cuda.is_available() else \"cpu\"\n",
    "print(f\"Rodando na {device}\")"
   ]
  },
  {
   "cell_type": "code",
   "execution_count": null,
   "id": "56dab5cb",
   "metadata": {},
   "outputs": [],
   "source": [
    "model = LineNetwork().to(device)"
   ]
  },
  {
   "cell_type": "code",
   "execution_count": null,
   "id": "bf639fad",
   "metadata": {},
   "outputs": [],
   "source": [
    "# Função de perda (loss function)\n",
    "# Erro quadrático médio (Mean Squared Error)\n",
    "lossfunc = nn.MSELoss()\n",
    "# Gradiente Descendente Estocástico\n",
    "# SGD = Stochastic Gradient Descent\n",
    "optimizer = torch.optim.SGD(model.parameters(), lr=1e-3)\n",
    "# taxa de aprendizado lr = learning rate"
   ]
  },
  {
   "cell_type": "code",
   "execution_count": null,
   "id": "9f31efbd",
   "metadata": {},
   "outputs": [],
   "source": [
    "\n",
    "import matplotlib.pyplot as plt"
   ]
  },
  {
   "cell_type": "code",
   "execution_count": null,
   "id": "fb17dea9",
   "metadata": {},
   "outputs": [],
   "source": [
    "def train(model, dataloader, lossfunc, optimizer):\n",
    "  model.train()\n",
    "  cumloss = 0.0\n",
    "  for X, y in dataloader:\n",
    "    X = X.unsqueeze(1).float().to(device)\n",
    "    y = y.unsqueeze(1).float().to(device)\n",
    "\n",
    "    pred = model(X)\n",
    "    loss = lossfunc(pred, y)\n",
    "\n",
    "    # zera os gradientes acumulados\n",
    "    optimizer.zero_grad()\n",
    "    # computa os gradientes\n",
    "    loss.backward()\n",
    "    # anda, de fato, na direção que reduz o erro local\n",
    "    optimizer.step()\n",
    "\n",
    "    # loss é um tensor; item pra obter o float\n",
    "    cumloss += loss.item() \n",
    "  \n",
    "  return cumloss / len(dataloader)\n",
    "\n",
    "\n",
    "def test(model, dataloader, lossfunc):\n",
    "  model.eval()\n",
    "  \n",
    "  cumloss = 0.0\n",
    "  with torch.no_grad():\n",
    "    for X, y in dataloader:\n",
    "      X = X.unsqueeze(1).float().to(device)\n",
    "      y = y.unsqueeze(1).float().to(device)\n",
    "\n",
    "      pred = model(X)\n",
    "      loss = lossfunc(pred, y)\n",
    "      cumloss += loss.item() \n",
    "  \n",
    "  return cumloss / len(dataloader)"
   ]
  },
  {
   "cell_type": "code",
   "execution_count": null,
   "id": "ffd5b58e",
   "metadata": {},
   "outputs": [],
   "source": []
  },
  {
   "cell_type": "code",
   "execution_count": null,
   "id": "c7cb2824",
   "metadata": {},
   "outputs": [],
   "source": [
    "# Pra visualizar\n",
    "def plot_comparinson(f, model, interval=(-10, 10), nsamples=10):\n",
    "  fig, ax = plt.subplots(figsize=(10, 10))\n",
    "\n",
    "  ax.grid(True, which='both')\n",
    "  ax.spines['left'].set_position('zero')\n",
    "  ax.spines['right'].set_color('none')\n",
    "  ax.spines['bottom'].set_position('zero')\n",
    "  ax.spines['top'].set_color('none')\n",
    "\n",
    "  samples = np.linspace(interval[0], interval[1], nsamples)\n",
    "  model.eval()\n",
    "  with torch.no_grad():\n",
    "    pred = model(torch.tensor(samples).unsqueeze(1).float().to(device))\n",
    "\n",
    "  ax.plot(samples, list(map(f, samples)), \"o\", label=\"f(x) de referencia\")\n",
    "  ax.plot(samples, pred.cpu(), label=\"meu_modelo\")\n",
    "  plt.legend()\n",
    "  plt.show()"
   ]
  },
  {
   "cell_type": "code",
   "execution_count": null,
   "id": "f23f73e4",
   "metadata": {},
   "outputs": [],
   "source": [
    "epochs = 201\n",
    "for t in range(epochs):\n",
    "  train_loss = train(model, train_dataloader, lossfunc, optimizer)\n",
    "  if t % 10 == 0:\n",
    "    print(f\"Epoch: {t}; Train Loss: {train_loss}\")\n",
    "    #plot_comparinson(line, model)\n",
    "\n",
    "test_loss = test(model, test_dataloader, lossfunc)\n",
    "print(f\"Test Loss: {test_loss}\")"
   ]
  },
  {
   "cell_type": "code",
   "execution_count": null,
   "id": "35783f89",
   "metadata": {},
   "outputs": [],
   "source": [
    "class MultiLayerNetwork(nn.Module):\n",
    "  def __init__(self):\n",
    "    super().__init__()\n",
    "    self.layers = nn.Sequential(\n",
    "        nn.Linear(1, 128),\n",
    "        nn.ReLU(),\n",
    "        nn.Linear(128, 64),\n",
    "        nn.ReLU(),\n",
    "        nn.Linear(64, 32),\n",
    "        nn.ReLU(),\n",
    "        nn.Linear(32, 8),\n",
    "        nn.ReLU(),\n",
    "        nn.Linear(8, 1),\n",
    "    )\n",
    "\n",
    "  def forward(self, x):\n",
    "    return self.layers(x)"
   ]
  },
  {
   "cell_type": "code",
   "execution_count": null,
   "id": "5cb43561",
   "metadata": {},
   "outputs": [],
   "source": [
    "multimodel = MultiLayerNetwork().to(device)"
   ]
  },
  {
   "cell_type": "code",
   "execution_count": null,
   "id": "75ca1eac",
   "metadata": {},
   "outputs": [],
   "source": [
    "f = lambda x: cos(x/2)+sin(x)"
   ]
  },
  {
   "cell_type": "code",
   "execution_count": null,
   "id": "ca5b75ae",
   "metadata": {},
   "outputs": [],
   "source": [
    "train_dataset = AlgebraicDataset(f, interval, train_nsamples)\n",
    "test_dataset = AlgebraicDataset(f, interval, test_nsamples)\n",
    "\n",
    "train_dataloader = DataLoader(train_dataset, train_nsamples, shuffle=True)\n",
    "test_dataloader = DataLoader(test_dataset, test_nsamples, shuffle=True)"
   ]
  },
  {
   "cell_type": "code",
   "execution_count": null,
   "id": "a8d044ed",
   "metadata": {},
   "outputs": [],
   "source": [
    "lossfunc = nn.MSELoss()\n",
    "optimizer = torch.optim.SGD(multimodel.parameters(), lr=1e-3)"
   ]
  },
  {
   "cell_type": "code",
   "execution_count": null,
   "id": "f433c49d",
   "metadata": {},
   "outputs": [],
   "source": [
    "epochs = 20000\n",
    "for t in range(epochs):\n",
    "  train_loss = train(multimodel, train_dataloader, lossfunc, optimizer)\n",
    "  if t % 1000 == 0:\n",
    "    print(f\"Epoch: {t}; Train Loss: {train_loss}\")\n",
    "    plot_comparinson(f, multimodel, nsamples=150)\n",
    "\n",
    "test_loss = test(multimodel, test_dataloader, lossfunc)\n",
    "print(f\"Test Loss: {test_loss}\")\n",
    "writer.close()\n",
    "     "
   ]
  },
  {
   "cell_type": "code",
   "execution_count": null,
   "id": "75bbe548",
   "metadata": {},
   "outputs": [],
   "source": []
  }
 ],
 "metadata": {
  "kernelspec": {
   "display_name": "Python 3 (ipykernel)",
   "language": "python",
   "name": "python3"
  },
  "language_info": {
   "codemirror_mode": {
    "name": "ipython",
    "version": 3
   },
   "file_extension": ".py",
   "mimetype": "text/x-python",
   "name": "python",
   "nbconvert_exporter": "python",
   "pygments_lexer": "ipython3",
   "version": "3.9.13"
  }
 },
 "nbformat": 4,
 "nbformat_minor": 5
}
