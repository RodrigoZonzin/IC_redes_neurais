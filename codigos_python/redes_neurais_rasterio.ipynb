{
  "nbformat": 4,
  "nbformat_minor": 0,
  "metadata": {
    "colab": {
      "provenance": []
    },
    "kernelspec": {
      "name": "python3",
      "display_name": "Python 3"
    },
    "language_info": {
      "name": "python"
    }
  },
  "cells": [
    {
      "cell_type": "code",
      "execution_count": null,
      "metadata": {
        "colab": {
          "base_uri": "https://localhost:8080/"
        },
        "id": "UKPkn4TWT2VN",
        "outputId": "19d28cb0-b25c-4e7b-9045-7a160e712c1b"
      },
      "outputs": [
        {
          "output_type": "stream",
          "name": "stdout",
          "text": [
            "Looking in indexes: https://pypi.org/simple, https://us-python.pkg.dev/colab-wheels/public/simple/\n",
            "Collecting rasterio\n",
            "  Downloading rasterio-1.3.6-cp39-cp39-manylinux_2_17_x86_64.manylinux2014_x86_64.whl (20.1 MB)\n",
            "\u001b[2K     \u001b[90m━━━━━━━━━━━━━━━━━━━━━━━━━━━━━━━━━━━━━━━━\u001b[0m \u001b[32m20.1/20.1 MB\u001b[0m \u001b[31m34.8 MB/s\u001b[0m eta \u001b[36m0:00:00\u001b[0m\n",
            "\u001b[?25hCollecting cligj>=0.5\n",
            "  Downloading cligj-0.7.2-py3-none-any.whl (7.1 kB)\n",
            "Requirement already satisfied: setuptools in /usr/local/lib/python3.9/dist-packages (from rasterio) (67.6.1)\n",
            "Requirement already satisfied: click>=4.0 in /usr/local/lib/python3.9/dist-packages (from rasterio) (8.1.3)\n",
            "Requirement already satisfied: certifi in /usr/local/lib/python3.9/dist-packages (from rasterio) (2022.12.7)\n",
            "Collecting affine\n",
            "  Downloading affine-2.4.0-py3-none-any.whl (15 kB)\n",
            "Requirement already satisfied: numpy>=1.18 in /usr/local/lib/python3.9/dist-packages (from rasterio) (1.22.4)\n",
            "Collecting snuggs>=1.4.1\n",
            "  Downloading snuggs-1.4.7-py3-none-any.whl (5.4 kB)\n",
            "Requirement already satisfied: attrs in /usr/local/lib/python3.9/dist-packages (from rasterio) (22.2.0)\n",
            "Collecting click-plugins\n",
            "  Downloading click_plugins-1.1.1-py2.py3-none-any.whl (7.5 kB)\n",
            "Requirement already satisfied: pyparsing>=2.1.6 in /usr/local/lib/python3.9/dist-packages (from snuggs>=1.4.1->rasterio) (3.0.9)\n",
            "Installing collected packages: snuggs, cligj, click-plugins, affine, rasterio\n",
            "Successfully installed affine-2.4.0 click-plugins-1.1.1 cligj-0.7.2 rasterio-1.3.6 snuggs-1.4.7\n"
          ]
        }
      ],
      "source": [
        "!pip install rasterio"
      ]
    },
    {
      "cell_type": "code",
      "source": [
        "#IMPORTS PARA TRABALHAR COM DADOS GEORREFERENCIADOS\n",
        "import os\n",
        "import rasterio as rio\n",
        "from rasterio.plot import *\n",
        "import numpy as np\n",
        "import torch\n",
        "import matplotlib.pyplot as plt;"
      ],
      "metadata": {
        "id": "TF7hV7F9Wp3L"
      },
      "execution_count": null,
      "outputs": []
    },
    {
      "cell_type": "code",
      "source": [
        "#IMPORTS PARA TRABALHAR COM REDES NEURAIS\n",
        "from torch import nn, optim\n",
        "from torch.utils.data import TensorDataset, Dataset, DataLoader\n",
        "from torch.utils.data import SubsetRandomSampler\n",
        "from torchvision import transforms\n",
        "from random import sample"
      ],
      "metadata": {
        "id": "WetH9EbNcYdd"
      },
      "execution_count": null,
      "outputs": []
    },
    {
      "cell_type": "code",
      "source": [
        "from google.colab import drive\n",
        "drive.mount(\"/content/gdrive\")"
      ],
      "metadata": {
        "colab": {
          "base_uri": "https://localhost:8080/"
        },
        "id": "SSwFOHXAUJjz",
        "outputId": "8d0b45b8-f404-40ed-d3cd-33d9a4df335a"
      },
      "execution_count": null,
      "outputs": [
        {
          "output_type": "stream",
          "name": "stdout",
          "text": [
            "Mounted at /content/gdrive\n"
          ]
        }
      ]
    },
    {
      "cell_type": "code",
      "source": [],
      "metadata": {
        "id": "OcjzraAnURmc"
      },
      "execution_count": null,
      "outputs": []
    },
    {
      "cell_type": "code",
      "source": [
        "# Set the directory path where the geospatial images are stored\n",
        "diretorio_barbacena = \"/content/gdrive/MyDrive/dados_redes_neurais_imagens/imgs_BQ_NN\";\n",
        "diretorio_rioverde = \"/content/gdrive/MyDrive/dados_redes_neurais_imagens/imgs_RioVerde_NN\";\n",
        "imagens_barbacena = [];\n",
        "imagens_rioverde = [];\n",
        "\n",
        "# Loop through all the files in the directory\n",
        "for filename in os.listdir(diretorio_barbacena):\n",
        "\n",
        "    if filename.endswith(\".tif\") or filename.endswith(\".tiff\"):\n",
        "      \n",
        "        with rio.open(os.path.join(diretorio_barbacena, filename)) as src:\n",
        "            imagens_barbacena.append(src.read())\n",
        "            #print(type(src))           #TIPO DATASET RASTERIO\n",
        "            #print(type(src.read()))    #TIPO NP.NDARRAY\n",
        "            #show(src.read())\n",
        "          \n",
        "for filename in os.listdir(diretorio_rioverde):\n",
        "\n",
        "    if filename.endswith(\".tif\") or filename.endswith(\".tiff\"):\n",
        "      \n",
        "        with rio.open(os.path.join(diretorio_rioverde, filename)) as src:\n",
        "            imagens_rioverde.append(src.read())\n"
      ],
      "metadata": {
        "id": "Ji46dAjtVANg"
      },
      "execution_count": null,
      "outputs": []
    },
    {
      "cell_type": "code",
      "source": [
        "#TRANSFORMANDO OS NAN EM ZEROS\n",
        "for i in range(len(imagens_barbacena)):\n",
        "  imagens_barbacena[i] = np.nan_to_num(imagens_barbacena[i], nan = 0)\n",
        "  #print(imagens_treino[i])\n"
      ],
      "metadata": {
        "id": "QUfAu5d_YRMY"
      },
      "execution_count": null,
      "outputs": []
    },
    {
      "cell_type": "code",
      "source": [
        "print(type(imagens_barbacena[0]), type(imagens_barbacena))\n"
      ],
      "metadata": {
        "id": "o7wIk43LapVJ",
        "colab": {
          "base_uri": "https://localhost:8080/"
        },
        "outputId": "bfa9e197-348c-43cd-a7be-ef6a0f33fbdb"
      },
      "execution_count": null,
      "outputs": [
        {
          "output_type": "stream",
          "name": "stdout",
          "text": [
            "<class 'numpy.ndarray'> <class 'list'>\n"
          ]
        }
      ]
    },
    {
      "cell_type": "code",
      "source": [
        "#NÃO TENHO GPU\n",
        "device = 'cuda' if torch.cuda.is_available() else 'cpu'\n",
        "device"
      ],
      "metadata": {
        "colab": {
          "base_uri": "https://localhost:8080/",
          "height": 35
        },
        "id": "V-8Czoa9cPIf",
        "outputId": "e93d8b3e-2aed-4b2c-cfc7-2b523cb6c74d"
      },
      "execution_count": null,
      "outputs": [
        {
          "output_type": "execute_result",
          "data": {
            "text/plain": [
              "'cpu'"
            ],
            "application/vnd.google.colaboratory.intrinsic+json": {
              "type": "string"
            }
          },
          "metadata": {},
          "execution_count": 8
        }
      ]
    },
    {
      "cell_type": "code",
      "source": [
        "#NORMALIZANDO O TAMANHO DAS IMAGENS\n",
        "fixed_size = (3, 400, 600)\n",
        "imagens_barbacena = [np.transpose(np.resize(np.transpose(img, (1, 2, 0)), fixed_size), (0, 1, 2)) for img in imagens_barbacena]\n",
        "#imagens_barbacena = []; \n",
        "print(imagens_barbacena[1].shape)\n",
        "imagens_rioverde = [np.transpose(np.resize(np.transpose(img, (1, 2, 0)), fixed_size), (0, 1, 2)) for img in imagens_rioverde]\n",
        "\n",
        "#CONVERTETNDO A LISTA PARA TENSORES\n",
        "#train_tensor = torch.stack([torch.Tensor(i) for i in imagens_barbacena_resized])\n",
        "#test_tensor = torch.stack([torch.Tensor(i) for i in imagens_rioverde_resized])"
      ],
      "metadata": {
        "id": "Dra0lQG6c6O8",
        "colab": {
          "base_uri": "https://localhost:8080/"
        },
        "outputId": "2bea75b0-19ec-4ce3-f050-e7914bd56185"
      },
      "execution_count": null,
      "outputs": [
        {
          "output_type": "stream",
          "name": "stdout",
          "text": [
            "(3, 400, 600)\n"
          ]
        }
      ]
    },
    {
      "cell_type": "code",
      "source": [
        "#DEFININDO OS DATASETS DE TREINO E TESTE E DEPOIS USANDO-OS PARA CARREGAR A REDE\n",
        "class DatasetImagens(Dataset):\n",
        "  def __init__(self, dados):\n",
        "    self.images = [i[\"image\"] for i in dados]; \n",
        "    self.labels = [l[\"label\"] for l in dados]; \n",
        "\n",
        "  def __len__(self):\n",
        "    return len(self.labels);\n",
        "\n",
        "  def __getitem__(self, idx):\n",
        "    image = self.images[idx]; \n",
        "    label = self.labels[idx]; \n",
        "\n",
        "    # Convert the image to a PyTorch tensor\n",
        "    image = torch.from_numpy(image).float()\n",
        "    # Convert the label to a PyTorch tensor\n",
        "    label = torch.tensor(label).int()\n",
        "\n",
        "    return image, label"
      ],
      "metadata": {
        "id": "R-PUFVtVJ_Vc"
      },
      "execution_count": null,
      "outputs": []
    },
    {
      "cell_type": "code",
      "source": [
        "novas_imagens_barbacena = []\n",
        "novas_imagens_rioverde = []\n",
        "\n",
        "for image in imagens_barbacena:\n",
        "  novas_imagens_barbacena.append({\"image\": image, \"label\": 0})  \n",
        "\n",
        "for image in imagens_rioverde:\n",
        "  novas_imagens_rioverde.append({\"image\": image, \"label\": 1})\n",
        "\n"
      ],
      "metadata": {
        "id": "j4RaeVwdx0I6"
      },
      "execution_count": null,
      "outputs": []
    },
    {
      "cell_type": "code",
      "source": [
        "#21 IMAGENS TOTAIS PARA BARBACENA E 42 PARA RIO VERDE\n",
        "#7 DE TREINO PARA BARBACENA (1/3) E 14 PARA RIOVERDE (~1/3)\n",
        "treino_dataset = sample(novas_imagens_barbacena + novas_imagens_rioverde, 21); \n",
        "test_dataset = sample(novas_imagens_barbacena + novas_imagens_rioverde, 42);\n",
        "\n",
        "#ESTA DANDO CERTO!!!!!\n",
        "\n",
        "#ALTERANDO PARA A CLASSE DATASETIMAGE\n",
        "treino_dataset = DatasetImagens(treino_dataset);\n",
        "test_dataset = DatasetImagens(test_dataset);\n",
        "\n"
      ],
      "metadata": {
        "id": "x4HiVpJs0y4q"
      },
      "execution_count": null,
      "outputs": []
    },
    {
      "cell_type": "code",
      "source": [
        "#DATALOADER \n",
        "batch_size = 16 \n",
        "train_dataloader = DataLoader(treino_dataset, batch_size=batch_size, shuffle=True)\n",
        "test_dataloader = DataLoader(test_dataset, batch_size=batch_size, shuffle=True)"
      ],
      "metadata": {
        "id": "VWMDQ9PUJ_6F"
      },
      "execution_count": null,
      "outputs": []
    },
    {
      "cell_type": "code",
      "source": [
        "#DEFININDO A ARQUITETURA DA MINHA REDE\n",
        "class MinhaRede(nn.Module):\n",
        "  def __init__(self):\n",
        "    super(MinhaRede, self).__init__()\n",
        "\n",
        "    # Definir a arquitetura\n",
        "    self.rede = nn.Sequential(\n",
        "        nn.Linear(600, 64),\n",
        "        nn.ReLU(),\n",
        "        #nn.Linear(200, 600),\n",
        "        #nn.ReLU(),\n",
        "        #nn.Linear(600, 64),\n",
        "        #nn.ReLU(),\n",
        "        nn.Linear(64, 2)\n",
        "    )\n",
        "\n",
        "  def forward(self, image):\n",
        "    # Fluxo de passagem do dado\n",
        "    saida = self.rede(image)\n",
        "    return saida"
      ],
      "metadata": {
        "id": "xgvLNHcrcofO"
      },
      "execution_count": null,
      "outputs": []
    },
    {
      "cell_type": "code",
      "source": [
        "#INSTANCIANDO-A \n",
        "tam_entrada = 1 #28+14\n",
        "model = MinhaRede()"
      ],
      "metadata": {
        "id": "cC5vFt43LUXq"
      },
      "execution_count": null,
      "outputs": []
    },
    {
      "cell_type": "code",
      "source": [
        "#FUNÇÃO DE PERDA E OTIMIZADOR\n",
        "criterion = nn.CrossEntropyLoss()\n",
        "optimizer = optim.SGD(model.parameters(), lr=0.001, momentum=0.9)"
      ],
      "metadata": {
        "id": "Cf8bqEj9LWyI"
      },
      "execution_count": null,
      "outputs": []
    },
    {
      "cell_type": "code",
      "source": [
        "#TREINANDO A REDE NEURAL\n",
        "def train(model, dataloader, lossfunc, optimizer):\n",
        "  model.train(True)\n",
        "  cumloss = 0.0\n",
        "  for image, label in dataloader:    \n",
        "    #print(f\"Imagem é: {image} e label é {label}\");\n",
        "\n",
        "    pred = model(image)\n",
        "    loss = lossfunc(pred, label)\n",
        "\n",
        "    #zera os gradientes acumulados\n",
        "    optimizer.zero_grad()\n",
        "    #computa os gradientes\n",
        "    loss.backward()\n",
        "    #anda, de fato, na direção que reduz o erro local\n",
        "    optimizer.step()\n",
        "\n",
        "    # loss é um tensor; item pra obter o float\n",
        "    cumloss += loss.item() \n",
        "  \n",
        "  return cumloss / len(dataloader)"
      ],
      "metadata": {
        "id": "pz12MBz7LiHh"
      },
      "execution_count": null,
      "outputs": []
    },
    {
      "cell_type": "code",
      "source": [
        "#FUNCAO PARA TESTAR A REDE NEURAL \n",
        "def test(model, dataloader, lossfunc):\n",
        "  model.eval()\n",
        "  \n",
        "  cumloss = 0.0\n",
        "  with torch.no_grad():\n",
        "    for X, y in dataloader:\n",
        "      X = X.unsqueeze(1).float().to(device)\n",
        "      y = y.unsqueeze(1).float().to(device)\n",
        "\n",
        "      pred = model(X)\n",
        "      loss = lossfunc(pred, y)\n",
        "      cumloss += loss.item() \n",
        "  \n",
        "  return cumloss / len(dataloader)"
      ],
      "metadata": {
        "id": "1PGf2LnRLw3k"
      },
      "execution_count": null,
      "outputs": []
    },
    {
      "cell_type": "code",
      "source": [
        "#TREINANDO A REDE UMA VEZ\n",
        "train(model, train_dataloader, criterion, optimizer)"
      ],
      "metadata": {
        "colab": {
          "base_uri": "https://localhost:8080/",
          "height": 415
        },
        "id": "ABiTHc2ul5rn",
        "outputId": "c16b99b8-44bd-41ba-a087-0d739d03284c"
      },
      "execution_count": null,
      "outputs": [
        {
          "output_type": "error",
          "ename": "RuntimeError",
          "evalue": "ignored",
          "traceback": [
            "\u001b[0;31m---------------------------------------------------------------------------\u001b[0m",
            "\u001b[0;31mRuntimeError\u001b[0m                              Traceback (most recent call last)",
            "\u001b[0;32m<ipython-input-26-5e47a29bbde4>\u001b[0m in \u001b[0;36m<cell line: 2>\u001b[0;34m()\u001b[0m\n\u001b[1;32m      1\u001b[0m \u001b[0;31m#TREINANDO A REDE UMA VEZ\u001b[0m\u001b[0;34m\u001b[0m\u001b[0;34m\u001b[0m\u001b[0m\n\u001b[0;32m----> 2\u001b[0;31m \u001b[0mtrain\u001b[0m\u001b[0;34m(\u001b[0m\u001b[0mmodel\u001b[0m\u001b[0;34m,\u001b[0m \u001b[0mtrain_dataloader\u001b[0m\u001b[0;34m,\u001b[0m \u001b[0mcriterion\u001b[0m\u001b[0;34m,\u001b[0m \u001b[0moptimizer\u001b[0m\u001b[0;34m)\u001b[0m\u001b[0;34m\u001b[0m\u001b[0;34m\u001b[0m\u001b[0m\n\u001b[0m",
            "\u001b[0;32m<ipython-input-24-0ed7abf363af>\u001b[0m in \u001b[0;36mtrain\u001b[0;34m(model, dataloader, lossfunc, optimizer)\u001b[0m\n\u001b[1;32m      7\u001b[0m \u001b[0;34m\u001b[0m\u001b[0m\n\u001b[1;32m      8\u001b[0m     \u001b[0mpred\u001b[0m \u001b[0;34m=\u001b[0m \u001b[0mmodel\u001b[0m\u001b[0;34m(\u001b[0m\u001b[0mimage\u001b[0m\u001b[0;34m)\u001b[0m\u001b[0;34m\u001b[0m\u001b[0;34m\u001b[0m\u001b[0m\n\u001b[0;32m----> 9\u001b[0;31m     \u001b[0mloss\u001b[0m \u001b[0;34m=\u001b[0m \u001b[0mlossfunc\u001b[0m\u001b[0;34m(\u001b[0m\u001b[0mpred\u001b[0m\u001b[0;34m,\u001b[0m \u001b[0mlabel\u001b[0m\u001b[0;34m)\u001b[0m\u001b[0;34m\u001b[0m\u001b[0;34m\u001b[0m\u001b[0m\n\u001b[0m\u001b[1;32m     10\u001b[0m \u001b[0;34m\u001b[0m\u001b[0m\n\u001b[1;32m     11\u001b[0m     \u001b[0;31m#zera os gradientes acumulados\u001b[0m\u001b[0;34m\u001b[0m\u001b[0;34m\u001b[0m\u001b[0m\n",
            "\u001b[0;32m/usr/local/lib/python3.9/dist-packages/torch/nn/modules/module.py\u001b[0m in \u001b[0;36m_call_impl\u001b[0;34m(self, *args, **kwargs)\u001b[0m\n\u001b[1;32m   1499\u001b[0m                 \u001b[0;32mor\u001b[0m \u001b[0m_global_backward_pre_hooks\u001b[0m \u001b[0;32mor\u001b[0m \u001b[0m_global_backward_hooks\u001b[0m\u001b[0;34m\u001b[0m\u001b[0;34m\u001b[0m\u001b[0m\n\u001b[1;32m   1500\u001b[0m                 or _global_forward_hooks or _global_forward_pre_hooks):\n\u001b[0;32m-> 1501\u001b[0;31m             \u001b[0;32mreturn\u001b[0m \u001b[0mforward_call\u001b[0m\u001b[0;34m(\u001b[0m\u001b[0;34m*\u001b[0m\u001b[0margs\u001b[0m\u001b[0;34m,\u001b[0m \u001b[0;34m**\u001b[0m\u001b[0mkwargs\u001b[0m\u001b[0;34m)\u001b[0m\u001b[0;34m\u001b[0m\u001b[0;34m\u001b[0m\u001b[0m\n\u001b[0m\u001b[1;32m   1502\u001b[0m         \u001b[0;31m# Do not call functions when jit is used\u001b[0m\u001b[0;34m\u001b[0m\u001b[0;34m\u001b[0m\u001b[0m\n\u001b[1;32m   1503\u001b[0m         \u001b[0mfull_backward_hooks\u001b[0m\u001b[0;34m,\u001b[0m \u001b[0mnon_full_backward_hooks\u001b[0m \u001b[0;34m=\u001b[0m \u001b[0;34m[\u001b[0m\u001b[0;34m]\u001b[0m\u001b[0;34m,\u001b[0m \u001b[0;34m[\u001b[0m\u001b[0;34m]\u001b[0m\u001b[0;34m\u001b[0m\u001b[0;34m\u001b[0m\u001b[0m\n",
            "\u001b[0;32m/usr/local/lib/python3.9/dist-packages/torch/nn/modules/loss.py\u001b[0m in \u001b[0;36mforward\u001b[0;34m(self, input, target)\u001b[0m\n\u001b[1;32m   1172\u001b[0m \u001b[0;34m\u001b[0m\u001b[0m\n\u001b[1;32m   1173\u001b[0m     \u001b[0;32mdef\u001b[0m \u001b[0mforward\u001b[0m\u001b[0;34m(\u001b[0m\u001b[0mself\u001b[0m\u001b[0;34m,\u001b[0m \u001b[0minput\u001b[0m\u001b[0;34m:\u001b[0m \u001b[0mTensor\u001b[0m\u001b[0;34m,\u001b[0m \u001b[0mtarget\u001b[0m\u001b[0;34m:\u001b[0m \u001b[0mTensor\u001b[0m\u001b[0;34m)\u001b[0m \u001b[0;34m->\u001b[0m \u001b[0mTensor\u001b[0m\u001b[0;34m:\u001b[0m\u001b[0;34m\u001b[0m\u001b[0;34m\u001b[0m\u001b[0m\n\u001b[0;32m-> 1174\u001b[0;31m         return F.cross_entropy(input, target, weight=self.weight,\n\u001b[0m\u001b[1;32m   1175\u001b[0m                                \u001b[0mignore_index\u001b[0m\u001b[0;34m=\u001b[0m\u001b[0mself\u001b[0m\u001b[0;34m.\u001b[0m\u001b[0mignore_index\u001b[0m\u001b[0;34m,\u001b[0m \u001b[0mreduction\u001b[0m\u001b[0;34m=\u001b[0m\u001b[0mself\u001b[0m\u001b[0;34m.\u001b[0m\u001b[0mreduction\u001b[0m\u001b[0;34m,\u001b[0m\u001b[0;34m\u001b[0m\u001b[0;34m\u001b[0m\u001b[0m\n\u001b[1;32m   1176\u001b[0m                                label_smoothing=self.label_smoothing)\n",
            "\u001b[0;32m/usr/local/lib/python3.9/dist-packages/torch/nn/functional.py\u001b[0m in \u001b[0;36mcross_entropy\u001b[0;34m(input, target, weight, size_average, ignore_index, reduce, reduction, label_smoothing)\u001b[0m\n\u001b[1;32m   3027\u001b[0m     \u001b[0;32mif\u001b[0m \u001b[0msize_average\u001b[0m \u001b[0;32mis\u001b[0m \u001b[0;32mnot\u001b[0m \u001b[0;32mNone\u001b[0m \u001b[0;32mor\u001b[0m \u001b[0mreduce\u001b[0m \u001b[0;32mis\u001b[0m \u001b[0;32mnot\u001b[0m \u001b[0;32mNone\u001b[0m\u001b[0;34m:\u001b[0m\u001b[0;34m\u001b[0m\u001b[0;34m\u001b[0m\u001b[0m\n\u001b[1;32m   3028\u001b[0m         \u001b[0mreduction\u001b[0m \u001b[0;34m=\u001b[0m \u001b[0m_Reduction\u001b[0m\u001b[0;34m.\u001b[0m\u001b[0mlegacy_get_string\u001b[0m\u001b[0;34m(\u001b[0m\u001b[0msize_average\u001b[0m\u001b[0;34m,\u001b[0m \u001b[0mreduce\u001b[0m\u001b[0;34m)\u001b[0m\u001b[0;34m\u001b[0m\u001b[0;34m\u001b[0m\u001b[0m\n\u001b[0;32m-> 3029\u001b[0;31m     \u001b[0;32mreturn\u001b[0m \u001b[0mtorch\u001b[0m\u001b[0;34m.\u001b[0m\u001b[0m_C\u001b[0m\u001b[0;34m.\u001b[0m\u001b[0m_nn\u001b[0m\u001b[0;34m.\u001b[0m\u001b[0mcross_entropy_loss\u001b[0m\u001b[0;34m(\u001b[0m\u001b[0minput\u001b[0m\u001b[0;34m,\u001b[0m \u001b[0mtarget\u001b[0m\u001b[0;34m,\u001b[0m \u001b[0mweight\u001b[0m\u001b[0;34m,\u001b[0m \u001b[0m_Reduction\u001b[0m\u001b[0;34m.\u001b[0m\u001b[0mget_enum\u001b[0m\u001b[0;34m(\u001b[0m\u001b[0mreduction\u001b[0m\u001b[0;34m)\u001b[0m\u001b[0;34m,\u001b[0m \u001b[0mignore_index\u001b[0m\u001b[0;34m,\u001b[0m \u001b[0mlabel_smoothing\u001b[0m\u001b[0;34m)\u001b[0m\u001b[0;34m\u001b[0m\u001b[0;34m\u001b[0m\u001b[0m\n\u001b[0m\u001b[1;32m   3030\u001b[0m \u001b[0;34m\u001b[0m\u001b[0m\n\u001b[1;32m   3031\u001b[0m \u001b[0;34m\u001b[0m\u001b[0m\n",
            "\u001b[0;31mRuntimeError\u001b[0m: only batches of spatial targets supported (3D tensors) but got targets of dimension: 1"
          ]
        }
      ]
    },
    {
      "cell_type": "code",
      "source": [
        "#TREINANDO VARIAS VEZES \n",
        "\n",
        "epochs = 200\n",
        "for t in range(epochs):\n",
        "  train_loss = train(model, train_dataloader, criterion, optimizer)\n",
        "  if t % 1000 == 0:\n",
        "    print(f\"Epoch: {t}; Train Loss: {train_loss}\")\n",
        "    \n",
        "\n",
        "test_loss = test(model, test_dataloader, criterion)\n",
        "print(f\"Test Loss: {test_loss}\")"
      ],
      "metadata": {
        "id": "8LQm7zlymXNR"
      },
      "execution_count": null,
      "outputs": []
    }
  ]
}