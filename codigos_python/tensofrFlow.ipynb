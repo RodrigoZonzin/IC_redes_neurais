{
  "nbformat": 4,
  "nbformat_minor": 0,
  "metadata": {
    "colab": {
      "provenance": []
    },
    "kernelspec": {
      "name": "python3",
      "display_name": "Python 3"
    },
    "language_info": {
      "name": "python"
    }
  },
  "cells": [
    {
      "cell_type": "code",
      "source": [
        "!pip install rasterio\n",
        "!pip install tensorflow\n",
        "!pip install pyrsgis"
      ],
      "metadata": {
        "colab": {
          "base_uri": "https://localhost:8080/"
        },
        "id": "gjvFT9MDXUcC",
        "outputId": "e804f924-a55a-42ac-e460-b549675c5473"
      },
      "execution_count": 7,
      "outputs": [
        {
          "output_type": "stream",
          "name": "stdout",
          "text": [
            "Looking in indexes: https://pypi.org/simple, https://us-python.pkg.dev/colab-wheels/public/simple/\n",
            "Requirement already satisfied: rasterio in /usr/local/lib/python3.9/dist-packages (1.3.6)\n",
            "Requirement already satisfied: affine in /usr/local/lib/python3.9/dist-packages (from rasterio) (2.4.0)\n",
            "Requirement already satisfied: attrs in /usr/local/lib/python3.9/dist-packages (from rasterio) (23.1.0)\n",
            "Requirement already satisfied: certifi in /usr/local/lib/python3.9/dist-packages (from rasterio) (2022.12.7)\n",
            "Requirement already satisfied: click-plugins in /usr/local/lib/python3.9/dist-packages (from rasterio) (1.1.1)\n",
            "Requirement already satisfied: cligj>=0.5 in /usr/local/lib/python3.9/dist-packages (from rasterio) (0.7.2)\n",
            "Requirement already satisfied: setuptools in /usr/local/lib/python3.9/dist-packages (from rasterio) (67.6.1)\n",
            "Requirement already satisfied: snuggs>=1.4.1 in /usr/local/lib/python3.9/dist-packages (from rasterio) (1.4.7)\n",
            "Requirement already satisfied: numpy>=1.18 in /usr/local/lib/python3.9/dist-packages (from rasterio) (1.22.4)\n",
            "Requirement already satisfied: click>=4.0 in /usr/local/lib/python3.9/dist-packages (from rasterio) (8.1.3)\n",
            "Requirement already satisfied: pyparsing>=2.1.6 in /usr/local/lib/python3.9/dist-packages (from snuggs>=1.4.1->rasterio) (3.0.9)\n",
            "Looking in indexes: https://pypi.org/simple, https://us-python.pkg.dev/colab-wheels/public/simple/\n",
            "Requirement already satisfied: tensorflow in /usr/local/lib/python3.9/dist-packages (2.12.0)\n",
            "Requirement already satisfied: libclang>=13.0.0 in /usr/local/lib/python3.9/dist-packages (from tensorflow) (16.0.0)\n",
            "Requirement already satisfied: setuptools in /usr/local/lib/python3.9/dist-packages (from tensorflow) (67.6.1)\n",
            "Requirement already satisfied: six>=1.12.0 in /usr/local/lib/python3.9/dist-packages (from tensorflow) (1.16.0)\n",
            "Requirement already satisfied: google-pasta>=0.1.1 in /usr/local/lib/python3.9/dist-packages (from tensorflow) (0.2.0)\n",
            "Requirement already satisfied: opt-einsum>=2.3.2 in /usr/local/lib/python3.9/dist-packages (from tensorflow) (3.3.0)\n",
            "Requirement already satisfied: tensorflow-io-gcs-filesystem>=0.23.1 in /usr/local/lib/python3.9/dist-packages (from tensorflow) (0.32.0)\n",
            "Requirement already satisfied: jax>=0.3.15 in /usr/local/lib/python3.9/dist-packages (from tensorflow) (0.4.8)\n",
            "Requirement already satisfied: numpy<1.24,>=1.22 in /usr/local/lib/python3.9/dist-packages (from tensorflow) (1.22.4)\n",
            "Requirement already satisfied: packaging in /usr/local/lib/python3.9/dist-packages (from tensorflow) (23.1)\n",
            "Requirement already satisfied: absl-py>=1.0.0 in /usr/local/lib/python3.9/dist-packages (from tensorflow) (1.4.0)\n",
            "Requirement already satisfied: astunparse>=1.6.0 in /usr/local/lib/python3.9/dist-packages (from tensorflow) (1.6.3)\n",
            "Requirement already satisfied: h5py>=2.9.0 in /usr/local/lib/python3.9/dist-packages (from tensorflow) (3.8.0)\n",
            "Requirement already satisfied: termcolor>=1.1.0 in /usr/local/lib/python3.9/dist-packages (from tensorflow) (2.2.0)\n",
            "Requirement already satisfied: protobuf!=4.21.0,!=4.21.1,!=4.21.2,!=4.21.3,!=4.21.4,!=4.21.5,<5.0.0dev,>=3.20.3 in /usr/local/lib/python3.9/dist-packages (from tensorflow) (3.20.3)\n",
            "Requirement already satisfied: typing-extensions>=3.6.6 in /usr/local/lib/python3.9/dist-packages (from tensorflow) (4.5.0)\n",
            "Requirement already satisfied: gast<=0.4.0,>=0.2.1 in /usr/local/lib/python3.9/dist-packages (from tensorflow) (0.4.0)\n",
            "Requirement already satisfied: tensorflow-estimator<2.13,>=2.12.0 in /usr/local/lib/python3.9/dist-packages (from tensorflow) (2.12.0)\n",
            "Requirement already satisfied: grpcio<2.0,>=1.24.3 in /usr/local/lib/python3.9/dist-packages (from tensorflow) (1.53.0)\n",
            "Requirement already satisfied: wrapt<1.15,>=1.11.0 in /usr/local/lib/python3.9/dist-packages (from tensorflow) (1.14.1)\n",
            "Requirement already satisfied: flatbuffers>=2.0 in /usr/local/lib/python3.9/dist-packages (from tensorflow) (23.3.3)\n",
            "Requirement already satisfied: tensorboard<2.13,>=2.12 in /usr/local/lib/python3.9/dist-packages (from tensorflow) (2.12.2)\n",
            "Requirement already satisfied: keras<2.13,>=2.12.0 in /usr/local/lib/python3.9/dist-packages (from tensorflow) (2.12.0)\n",
            "Requirement already satisfied: wheel<1.0,>=0.23.0 in /usr/local/lib/python3.9/dist-packages (from astunparse>=1.6.0->tensorflow) (0.40.0)\n",
            "Requirement already satisfied: scipy>=1.7 in /usr/local/lib/python3.9/dist-packages (from jax>=0.3.15->tensorflow) (1.10.1)\n",
            "Requirement already satisfied: ml-dtypes>=0.0.3 in /usr/local/lib/python3.9/dist-packages (from jax>=0.3.15->tensorflow) (0.1.0)\n",
            "Requirement already satisfied: requests<3,>=2.21.0 in /usr/local/lib/python3.9/dist-packages (from tensorboard<2.13,>=2.12->tensorflow) (2.27.1)\n",
            "Requirement already satisfied: werkzeug>=1.0.1 in /usr/local/lib/python3.9/dist-packages (from tensorboard<2.13,>=2.12->tensorflow) (2.2.3)\n",
            "Requirement already satisfied: google-auth<3,>=1.6.3 in /usr/local/lib/python3.9/dist-packages (from tensorboard<2.13,>=2.12->tensorflow) (2.17.3)\n",
            "Requirement already satisfied: tensorboard-plugin-wit>=1.6.0 in /usr/local/lib/python3.9/dist-packages (from tensorboard<2.13,>=2.12->tensorflow) (1.8.1)\n",
            "Requirement already satisfied: google-auth-oauthlib<1.1,>=0.5 in /usr/local/lib/python3.9/dist-packages (from tensorboard<2.13,>=2.12->tensorflow) (1.0.0)\n",
            "Requirement already satisfied: tensorboard-data-server<0.8.0,>=0.7.0 in /usr/local/lib/python3.9/dist-packages (from tensorboard<2.13,>=2.12->tensorflow) (0.7.0)\n",
            "Requirement already satisfied: markdown>=2.6.8 in /usr/local/lib/python3.9/dist-packages (from tensorboard<2.13,>=2.12->tensorflow) (3.4.3)\n",
            "Requirement already satisfied: pyasn1-modules>=0.2.1 in /usr/local/lib/python3.9/dist-packages (from google-auth<3,>=1.6.3->tensorboard<2.13,>=2.12->tensorflow) (0.2.8)\n",
            "Requirement already satisfied: rsa<5,>=3.1.4 in /usr/local/lib/python3.9/dist-packages (from google-auth<3,>=1.6.3->tensorboard<2.13,>=2.12->tensorflow) (4.9)\n",
            "Requirement already satisfied: cachetools<6.0,>=2.0.0 in /usr/local/lib/python3.9/dist-packages (from google-auth<3,>=1.6.3->tensorboard<2.13,>=2.12->tensorflow) (5.3.0)\n",
            "Requirement already satisfied: requests-oauthlib>=0.7.0 in /usr/local/lib/python3.9/dist-packages (from google-auth-oauthlib<1.1,>=0.5->tensorboard<2.13,>=2.12->tensorflow) (1.3.1)\n",
            "Requirement already satisfied: importlib-metadata>=4.4 in /usr/local/lib/python3.9/dist-packages (from markdown>=2.6.8->tensorboard<2.13,>=2.12->tensorflow) (6.4.1)\n",
            "Requirement already satisfied: idna<4,>=2.5 in /usr/local/lib/python3.9/dist-packages (from requests<3,>=2.21.0->tensorboard<2.13,>=2.12->tensorflow) (3.4)\n",
            "Requirement already satisfied: charset-normalizer~=2.0.0 in /usr/local/lib/python3.9/dist-packages (from requests<3,>=2.21.0->tensorboard<2.13,>=2.12->tensorflow) (2.0.12)\n",
            "Requirement already satisfied: urllib3<1.27,>=1.21.1 in /usr/local/lib/python3.9/dist-packages (from requests<3,>=2.21.0->tensorboard<2.13,>=2.12->tensorflow) (1.26.15)\n",
            "Requirement already satisfied: certifi>=2017.4.17 in /usr/local/lib/python3.9/dist-packages (from requests<3,>=2.21.0->tensorboard<2.13,>=2.12->tensorflow) (2022.12.7)\n",
            "Requirement already satisfied: MarkupSafe>=2.1.1 in /usr/local/lib/python3.9/dist-packages (from werkzeug>=1.0.1->tensorboard<2.13,>=2.12->tensorflow) (2.1.2)\n",
            "Requirement already satisfied: zipp>=0.5 in /usr/local/lib/python3.9/dist-packages (from importlib-metadata>=4.4->markdown>=2.6.8->tensorboard<2.13,>=2.12->tensorflow) (3.15.0)\n",
            "Requirement already satisfied: pyasn1<0.5.0,>=0.4.6 in /usr/local/lib/python3.9/dist-packages (from pyasn1-modules>=0.2.1->google-auth<3,>=1.6.3->tensorboard<2.13,>=2.12->tensorflow) (0.4.8)\n",
            "Requirement already satisfied: oauthlib>=3.0.0 in /usr/local/lib/python3.9/dist-packages (from requests-oauthlib>=0.7.0->google-auth-oauthlib<1.1,>=0.5->tensorboard<2.13,>=2.12->tensorflow) (3.2.2)\n",
            "Looking in indexes: https://pypi.org/simple, https://us-python.pkg.dev/colab-wheels/public/simple/\n",
            "Requirement already satisfied: pyrsgis in /usr/local/lib/python3.9/dist-packages (0.4.1)\n"
          ]
        }
      ]
    },
    {
      "cell_type": "code",
      "execution_count": 57,
      "metadata": {
        "id": "ldwlRGUeW0oP"
      },
      "outputs": [],
      "source": [
        "import os \n",
        "import numpy as np\n",
        "import tensorflow as tf\n",
        "from tensorflow import keras\n",
        "import matplotlib.pyplot as plt\n",
        "import rasterio as rio\n",
        "from pyrsgis import raster\n",
        "from pyrsgis.convert import changeDimension, array_to_table\n",
        "from sklearn.model_selection import train_test_split\n",
        "from tensorflow.keras.models import Sequential\n",
        "from tensorflow.keras.layers import Conv2D, MaxPooling2D, Dense, Flatten, Dropout\n",
        "from sklearn.metrics import confusion_matrix, precision_score, recall_score"
      ]
    },
    {
      "cell_type": "code",
      "source": [
        "from google.colab import drive\n",
        "drive.mount(\"/content/gdrive\")"
      ],
      "metadata": {
        "colab": {
          "base_uri": "https://localhost:8080/"
        },
        "id": "Roo8BLujYM81",
        "outputId": "21980f00-8a73-47e8-a9c4-81a7e6e550ed"
      },
      "execution_count": 9,
      "outputs": [
        {
          "output_type": "stream",
          "name": "stdout",
          "text": [
            "Mounted at /content/gdrive\n"
          ]
        }
      ]
    },
    {
      "cell_type": "code",
      "source": [
        "imagens_bq = [];\n",
        "imagens_rioVerde = [];\n",
        "data_dir = \"/content/gdrive/MyDrive/dados_redes_neurais_imagens/classes\"\n",
        "\n",
        "for image in os.listdir(os.path.join(data_dir, 'imgs_RioVerde_NN')):\n",
        "        image_path = os.path.join(data_dir, 'imgs_RioVerde_NN', image)\n",
        "        img = rio.open(image_path).read()\n",
        "        imagens_rioVerde.append((img, 0));\n",
        "        #show(img)\n",
        "\n",
        "for image in os.listdir(os.path.join(data_dir, 'imgs_BQ_NN')):\n",
        "        image_path = os.path.join(data_dir, 'imgs_BQ_NN', image)\n",
        "        img = rio.open(image_path).read()\n",
        "        imagens_bq.append((img, 1));\n",
        "        #show(img)"
      ],
      "metadata": {
        "id": "PuAKgPzGX6zq"
      },
      "execution_count": 71,
      "outputs": []
    },
    {
      "cell_type": "code",
      "source": [
        "imagens_bq = [np.asarray(img) for img in imagens_bq]\n",
        "imagens_rioVerde = [np.asarray(img) for img in imagens_rioVerde]\n",
        "\n",
        "#ESSA FUNÇÃO TRASNFORMA O SHAPE DE (3, 217, 317) PARA (68789, 3)\n",
        "#imagens_bq = [array_to_table(img) for img in imagens_bq]\n",
        "#imagens_rioVerde = [array_to_table(img) for img in imagens_rioVerde]\n",
        "imagens_bq[0].shape"
      ],
      "metadata": {
        "colab": {
          "base_uri": "https://localhost:8080/"
        },
        "id": "WTXt7pMzYuKy",
        "outputId": "7ca8adcf-1616-44d5-dd37-b58b8b2c9b16"
      },
      "execution_count": 72,
      "outputs": [
        {
          "output_type": "execute_result",
          "data": {
            "text/plain": [
              "(2,)"
            ]
          },
          "metadata": {},
          "execution_count": 72
        }
      ]
    },
    {
      "cell_type": "code",
      "source": [
        "X_train, X_test, y_train, y_test = train_test_split(imagens_bq, imagens_rioVerde[0:21], test_size = 0.4)"
      ],
      "metadata": {
        "id": "Hno1lOfzd4iM"
      },
      "execution_count": 74,
      "outputs": []
    },
    {
      "cell_type": "code",
      "source": [
        "model = Sequential()\n",
        "model.add(Conv2D(16, (3,3), 1, activation='relu', input_shape=(256,256,3)))\n",
        "model.add(MaxPooling2D())\n",
        "model.add(Conv2D(32, (3,3), 1, activation='relu'))\n",
        "model.add(MaxPooling2D())\n",
        "model.add(Conv2D(16, (3,3), 1, activation='relu'))\n",
        "model.add(MaxPooling2D())\n",
        "model.add(Flatten())\n",
        "model.add(Dense(256, activation='relu'))\n",
        "model.add(Dense(1, activation='sigmoid'))"
      ],
      "metadata": {
        "id": "5IXQTMuIeS-o"
      },
      "execution_count": 75,
      "outputs": []
    },
    {
      "cell_type": "code",
      "source": [
        "model.compile('adam', loss=tf.losses.BinaryCrossentropy(), metrics=['accuracy'])"
      ],
      "metadata": {
        "id": "lcUacTYkej0D"
      },
      "execution_count": 76,
      "outputs": []
    },
    {
      "cell_type": "code",
      "source": [
        "model.summary()"
      ],
      "metadata": {
        "colab": {
          "base_uri": "https://localhost:8080/"
        },
        "id": "Xf4ytw_YeyFg",
        "outputId": "80909e31-7996-4a9b-ba81-986867752355"
      },
      "execution_count": 77,
      "outputs": [
        {
          "output_type": "stream",
          "name": "stdout",
          "text": [
            "Model: \"sequential_2\"\n",
            "_________________________________________________________________\n",
            " Layer (type)                Output Shape              Param #   \n",
            "=================================================================\n",
            " conv2d_6 (Conv2D)           (None, 254, 254, 16)      448       \n",
            "                                                                 \n",
            " max_pooling2d_6 (MaxPooling  (None, 127, 127, 16)     0         \n",
            " 2D)                                                             \n",
            "                                                                 \n",
            " conv2d_7 (Conv2D)           (None, 125, 125, 32)      4640      \n",
            "                                                                 \n",
            " max_pooling2d_7 (MaxPooling  (None, 62, 62, 32)       0         \n",
            " 2D)                                                             \n",
            "                                                                 \n",
            " conv2d_8 (Conv2D)           (None, 60, 60, 16)        4624      \n",
            "                                                                 \n",
            " max_pooling2d_8 (MaxPooling  (None, 30, 30, 16)       0         \n",
            " 2D)                                                             \n",
            "                                                                 \n",
            " flatten_2 (Flatten)         (None, 14400)             0         \n",
            "                                                                 \n",
            " dense_4 (Dense)             (None, 256)               3686656   \n",
            "                                                                 \n",
            " dense_5 (Dense)             (None, 1)                 257       \n",
            "                                                                 \n",
            "=================================================================\n",
            "Total params: 3,696,625\n",
            "Trainable params: 3,696,625\n",
            "Non-trainable params: 0\n",
            "_________________________________________________________________\n"
          ]
        }
      ]
    },
    {
      "cell_type": "code",
      "source": [
        "logdir='logs'"
      ],
      "metadata": {
        "id": "EpWWp5__e2MB"
      },
      "execution_count": 78,
      "outputs": []
    },
    {
      "cell_type": "code",
      "source": [
        "tensorboard_callback = tf.keras.callbacks.TensorBoard(log_dir=logdir)"
      ],
      "metadata": {
        "id": "w-YJZqGce5c8"
      },
      "execution_count": 79,
      "outputs": []
    },
    {
      "cell_type": "code",
      "source": [
        "hist = model.fit(X_train, epochs=20, validation_data=y_train)"
      ],
      "metadata": {
        "colab": {
          "base_uri": "https://localhost:8080/",
          "height": 1000
        },
        "id": "Qt3A_6ume68g",
        "outputId": "0f254f7c-f289-43dc-b884-3c371ea7102d"
      },
      "execution_count": 80,
      "outputs": [
        {
          "output_type": "error",
          "ename": "ValueError",
          "evalue": "ignored",
          "traceback": [
            "\u001b[0;31m---------------------------------------------------------------------------\u001b[0m",
            "\u001b[0;31mValueError\u001b[0m                                Traceback (most recent call last)",
            "\u001b[0;32m<ipython-input-80-ac8c942948d2>\u001b[0m in \u001b[0;36m<cell line: 1>\u001b[0;34m()\u001b[0m\n\u001b[0;32m----> 1\u001b[0;31m \u001b[0mhist\u001b[0m \u001b[0;34m=\u001b[0m \u001b[0mmodel\u001b[0m\u001b[0;34m.\u001b[0m\u001b[0mfit\u001b[0m\u001b[0;34m(\u001b[0m\u001b[0mX_train\u001b[0m\u001b[0;34m,\u001b[0m \u001b[0mepochs\u001b[0m\u001b[0;34m=\u001b[0m\u001b[0;36m20\u001b[0m\u001b[0;34m,\u001b[0m \u001b[0mvalidation_data\u001b[0m\u001b[0;34m=\u001b[0m\u001b[0my_train\u001b[0m\u001b[0;34m)\u001b[0m\u001b[0;34m\u001b[0m\u001b[0;34m\u001b[0m\u001b[0m\n\u001b[0m",
            "\u001b[0;32m/usr/local/lib/python3.9/dist-packages/keras/utils/traceback_utils.py\u001b[0m in \u001b[0;36merror_handler\u001b[0;34m(*args, **kwargs)\u001b[0m\n\u001b[1;32m     68\u001b[0m             \u001b[0;31m# To get the full stack trace, call:\u001b[0m\u001b[0;34m\u001b[0m\u001b[0;34m\u001b[0m\u001b[0m\n\u001b[1;32m     69\u001b[0m             \u001b[0;31m# `tf.debugging.disable_traceback_filtering()`\u001b[0m\u001b[0;34m\u001b[0m\u001b[0;34m\u001b[0m\u001b[0m\n\u001b[0;32m---> 70\u001b[0;31m             \u001b[0;32mraise\u001b[0m \u001b[0me\u001b[0m\u001b[0;34m.\u001b[0m\u001b[0mwith_traceback\u001b[0m\u001b[0;34m(\u001b[0m\u001b[0mfiltered_tb\u001b[0m\u001b[0;34m)\u001b[0m \u001b[0;32mfrom\u001b[0m \u001b[0;32mNone\u001b[0m\u001b[0;34m\u001b[0m\u001b[0;34m\u001b[0m\u001b[0m\n\u001b[0m\u001b[1;32m     71\u001b[0m         \u001b[0;32mfinally\u001b[0m\u001b[0;34m:\u001b[0m\u001b[0;34m\u001b[0m\u001b[0;34m\u001b[0m\u001b[0m\n\u001b[1;32m     72\u001b[0m             \u001b[0;32mdel\u001b[0m \u001b[0mfiltered_tb\u001b[0m\u001b[0;34m\u001b[0m\u001b[0;34m\u001b[0m\u001b[0m\n",
            "\u001b[0;32m/usr/local/lib/python3.9/dist-packages/keras/engine/data_adapter.py\u001b[0m in \u001b[0;36munpack_x_y_sample_weight\u001b[0;34m(data)\u001b[0m\n\u001b[1;32m   1773\u001b[0m             \u001b[0;34m\"or `(x, y, sample_weight)`, found: {}\"\u001b[0m\u001b[0;34m\u001b[0m\u001b[0;34m\u001b[0m\u001b[0m\n\u001b[1;32m   1774\u001b[0m         ).format(data)\n\u001b[0;32m-> 1775\u001b[0;31m         \u001b[0;32mraise\u001b[0m \u001b[0mValueError\u001b[0m\u001b[0;34m(\u001b[0m\u001b[0merror_msg\u001b[0m\u001b[0;34m)\u001b[0m\u001b[0;34m\u001b[0m\u001b[0;34m\u001b[0m\u001b[0m\n\u001b[0m\u001b[1;32m   1776\u001b[0m \u001b[0;34m\u001b[0m\u001b[0m\n\u001b[1;32m   1777\u001b[0m \u001b[0;34m\u001b[0m\u001b[0m\n",
            "\u001b[0;31mValueError\u001b[0m: Data is expected to be in format `x`, `(x,)`, `(x, y)`, or `(x, y, sample_weight)`, found: (array([array([[[nan, nan, nan, ..., nan, nan, nan],\n               [nan, nan, nan, ..., nan, nan, nan],\n               [nan, nan, nan, ..., nan, nan, nan],\n               ...,\n               [nan, nan, nan, ..., nan, nan, nan],\n               [nan, nan, nan, ..., nan, nan, nan],\n               [nan, nan, nan, ..., nan, nan, nan]],\n\n              [[nan, nan, nan, ..., nan, nan, nan],\n               [nan, nan, nan, ..., nan, nan, nan],\n               [nan, nan, nan, ..., nan, nan, nan],\n               ...,\n               [nan, nan, nan, ..., nan, nan, nan],\n               [nan, nan, nan, ..., nan, nan, nan],\n               [nan, nan, nan, ..., nan, nan, nan]],\n\n              [[nan, nan, nan, ..., nan, nan, nan],\n               [nan, nan, nan, ..., nan, nan, nan],\n               [nan, nan, nan, ..., nan, nan, nan],\n               ...,\n               [nan, nan, nan, ..., nan, nan, nan],\n               [nan, nan, nan, ..., nan, nan, nan],\n               [nan, nan, nan, ..., nan, nan, nan]]], dtype=float32), 0],\n      dtype=object), array([array([[[nan, nan, nan, ..., nan, nan, nan],\n               [nan, nan, nan, ..., nan, nan, nan],\n               [nan, nan, nan, ..., nan, nan, nan],\n               ...,\n               [nan, nan, nan, ..., nan, nan, nan],\n               [nan, nan, nan, ..., nan, nan, nan],\n               [nan, nan, nan, ..., nan, nan, nan]],\n\n              [[nan, nan, nan, ..., nan, nan, nan],\n               [nan, nan, nan, ..., nan, nan, nan],\n               [nan, nan, nan, ..., nan, nan, nan],\n               ...,\n               [nan, nan, nan, ..., nan, nan, nan],\n               [nan, nan, nan, ..., nan, nan, nan],\n               [nan, nan, nan, ..., nan, nan, nan]],\n\n              [[nan, nan, nan, ..., nan, nan, nan],\n               [nan, nan, nan, ..., nan, nan, nan],\n               [nan, nan, nan, ..., nan, nan, nan],\n               ...,\n               [nan, nan, nan, ..., nan, nan, nan],\n               [nan, nan, nan, ..., nan, nan, nan],\n               [nan, nan, nan, ..., nan, nan, nan]]], dtype=float32), 0],\n      dtype=object), array([array([[[nan, nan, nan, ..., nan, nan, nan],\n               [nan, nan, nan, ..., nan, nan, nan],\n               [nan, nan, nan, ..., nan, nan, nan],\n               ...,\n               [nan, nan, nan, ..., nan, nan, nan],\n               [nan, nan, nan, ..., nan, nan, nan],\n               [nan, nan, nan, ..., nan, nan, nan]],\n\n              [[nan, nan, nan, ..., nan, nan, nan],\n               [nan, nan, nan, ..., nan, nan, nan],\n               [nan, nan, nan, ..., nan, nan, nan],\n               ...,\n               [nan, nan, nan, ..., nan, nan, nan],\n               [nan, nan, nan, ..., nan, nan, nan],\n               [nan, nan, nan, ..., nan, nan, nan]],\n\n              [[nan, nan, nan, ..., nan, nan, nan],\n               [nan, nan, nan, ..., nan, nan, nan],\n               [nan, nan, nan, ..., nan, nan, nan],\n               ...,\n               [nan, nan, nan, ..., nan, nan, nan],\n               [nan, nan, nan, ..., nan, nan, nan],\n               [nan, nan, nan, ..., nan, nan, nan]]], dtype=float32), 0],\n      dtype=object), array([array([[[nan, nan, nan, ..., nan, nan, nan],\n               [nan, nan, nan, ..., nan, nan, nan],\n               [nan, nan, nan, ..., nan, nan, nan],\n               ...,\n               [nan, nan, nan, ..., nan, nan, nan],\n               [nan, nan, nan, ..., nan, nan, nan],\n               [nan, nan, nan, ..., nan, nan, nan]],\n\n              [[nan, nan, nan, ..., nan, nan, nan],\n               [nan, nan, nan, ..., nan, nan, nan],\n               [nan, nan, nan, ..., nan, nan, nan],\n               ...,\n               [nan, nan, nan, ..., nan, nan, nan],\n               [nan, nan, nan, ..., nan, nan, nan],\n               [nan, nan, nan, ..., nan, nan, nan]],\n\n              [[nan, nan, nan, ..., nan, nan, nan],\n               [nan, nan, nan, ..., nan, nan, nan],\n               [nan, nan, nan, ..., nan, nan, nan],\n               ...,\n               [nan, nan, nan, ..., nan, nan, nan],\n               [nan, nan, nan, ..., nan, nan, nan],\n               [nan, nan, nan, ..., nan, nan, nan]]], dtype=float32), 0],\n      dtype=object), array([array([[[nan, nan, nan, ..., nan, nan, nan],\n               [nan, nan, nan, ..., nan, nan, nan],\n               [nan, nan, nan, ..., nan, nan, nan],\n               ...,\n               [nan, nan, nan, ..., nan, nan, nan],\n               [nan, nan, nan, ..., nan, nan, nan],\n               [nan, nan, nan, ..., nan, nan, nan]],\n\n              [[nan, nan, nan, ..., nan, nan, nan],\n               [nan, nan, nan, ..., nan, nan, nan],\n               [nan, nan, nan, ..., nan, nan, nan],\n               ...,\n               [nan, nan, nan, ..., nan, nan, nan],\n               [nan, nan, nan, ..., nan, nan, nan],\n               [nan, nan, nan, ..., nan, nan, nan]],\n\n              [[nan, nan, nan, ..., nan, nan, nan],\n               [nan, nan, nan, ..., nan, nan, nan],\n               [nan, nan, nan, ..., nan, nan, nan],\n               ...,\n               [nan, nan, nan, ..., nan, nan, nan],\n               [nan, nan, nan, ..., nan, nan, nan],\n               [nan, nan, nan, ..., nan, nan, nan]]], dtype=float32), 0],\n      dtype=object), array([array([[[nan, nan, nan, ..., nan, nan, nan],\n               [nan, nan, nan, ..., nan, nan, nan],\n               [nan, nan, nan, ..., nan, nan, nan],\n               ...,\n               [nan, nan, nan, ..., nan, nan, nan],\n               [nan, nan, nan, ..., nan, nan, nan],\n               [nan, nan, nan, ..., nan, nan, nan]],\n\n              [[nan, nan, nan, ..., nan, nan, nan],\n               [nan, nan, nan, ..., nan, nan, nan],\n               [nan, nan, nan, ..., nan, nan, nan],\n               ...,\n               [nan, nan, nan, ..., nan, nan, nan],\n               [nan, nan, nan, ..., nan, nan, nan],\n               [nan, nan, nan, ..., nan, nan, nan]],\n\n              [[nan, nan, nan, ..., nan, nan, nan],\n               [nan, nan, nan, ..., nan, nan, nan],\n               [nan, nan, nan, ..., nan, nan, nan],\n               ...,\n               [nan, nan, nan, ..., nan, nan, nan],\n               [nan, nan, nan, ..., nan, nan, nan],\n               [nan, nan, nan, ..., nan, nan, nan]]], dtype=float32), 0],\n      dtype=object), array([array([[[nan, nan, nan, ..., nan, nan, nan],\n               [nan, nan, nan, ..., nan, nan, nan],\n               [nan, nan, nan, ..., nan, nan, nan],\n               ...,\n               [nan, nan, nan, ..., nan, nan, nan],\n               [nan, nan, nan, ..., nan, nan, nan],\n               [nan, nan, nan, ..., nan, nan, nan]],\n\n              [[nan, nan, nan, ..., nan, nan, nan],\n               [nan, nan, nan, ..., nan, nan, nan],\n               [nan, nan, nan, ..., nan, nan, nan],\n               ...,\n               [nan, nan, nan, ..., nan, nan, nan],\n               [nan, nan, nan, ..., nan, nan, nan],\n               [nan, nan, nan, ..., nan, nan, nan]],\n\n              [[nan, nan, nan, ..., nan, nan, nan],\n               [nan, nan, nan, ..., nan, nan, nan],\n               [nan, nan, nan, ..., nan, nan, nan],\n               ...,\n               [nan, nan, nan, ..., nan, nan, nan],\n               [nan, nan, nan, ..., nan, nan, nan],\n               [nan, nan, nan, ..., nan, nan, nan]]], dtype=float32), 0],\n      dtype=object), array([array([[[nan, nan, nan, ..., nan, nan, nan],\n               [nan, nan, nan, ..., nan, nan, nan],\n               [nan, nan, nan, ..., nan, nan, nan],\n               ...,\n               [nan, nan, nan, ..., nan, nan, nan],\n               [nan, nan, nan, ..., nan, nan, nan],\n               [nan, nan, nan, ..., nan, nan, nan]],\n\n              [[nan, nan, nan, ..., nan, nan, nan],\n               [nan, nan, nan, ..., nan, nan, nan],\n               [nan, nan, nan, ..., nan, nan, nan],\n               ...,\n               [nan, nan, nan, ..., nan, nan, nan],\n               [nan, nan, nan, ..., nan, nan, nan],\n               [nan, nan, nan, ..., nan, nan, nan]],\n\n              [[nan, nan, nan, ..., nan, nan, nan],\n               [nan, nan, nan, ..., nan, nan, nan],\n               [nan, nan, nan, ..., nan, nan, nan],\n               ...,\n               [nan, nan, nan, ..., nan, nan, nan],\n               [nan, nan, nan, ..., nan, nan, nan],\n               [nan, nan, nan, ..., nan, nan, nan]]], dtype=float32), 0],\n      dtype=object), array([array([[[nan, nan, nan, ..., nan, nan, nan],\n               [nan, nan, nan, ..., nan, nan, nan],\n               [nan, nan, nan, ..., nan, nan, nan],\n               ...,\n               [nan, nan, nan, ..., nan, nan, nan],\n               [nan, nan, nan, ..., nan, nan, nan],\n               [nan, nan, nan, ..., nan, nan, nan]],\n\n              [[nan, nan, nan, ..., nan, nan, nan],\n               [nan, nan, nan, ..., nan, nan, nan],\n               [nan, nan, nan, ..., nan, nan, nan],\n               ...,\n               [nan, nan, nan, ..., nan, nan, nan],\n               [nan, nan, nan, ..., nan, nan, nan],\n               [nan, nan, nan, ..., nan, nan, nan]],\n\n              [[nan, nan, nan, ..., nan, nan, nan],\n               [nan, nan, nan, ..., nan, nan, nan],\n               [nan, nan, nan, ..., nan, nan, nan],\n               ...,\n               [nan, nan, nan, ..., nan, nan, nan],\n               [nan, nan, nan, ..., nan, nan, nan],\n               [nan, nan, nan, ..., nan, nan, nan]]], dtype=float32), 0],\n      dtype=object), array([array([[[nan, nan, nan, ..., nan, nan, nan],\n               [nan, nan, nan, ..., nan, nan, nan],\n               [nan, nan, nan, ..., nan, nan, nan],\n               ...,\n               [nan, nan, nan, ..., nan, nan, nan],\n               [nan, nan, nan, ..., nan, nan, nan],\n               [nan, nan, nan, ..., nan, nan, nan]],\n\n              [[nan, nan, nan, ..., nan, nan, nan],\n               [nan, nan, nan, ..., nan, nan, nan],\n               [nan, nan, nan, ..., nan, nan, nan],\n               ...,\n               [nan, nan, nan, ..., nan, nan, nan],\n               [nan, nan, nan, ..., nan, nan, nan],\n               [nan, nan, nan, ..., nan, nan, nan]],\n\n              [[nan, nan, nan, ..., nan, nan, nan],\n               [nan, nan, nan, ..., nan, nan, nan],\n               [nan, nan, nan, ..., nan, nan, nan],\n               ...,\n               [nan, nan, nan, ..., nan, nan, nan],\n               [nan, nan, nan, ..., nan, nan, nan],\n               [nan, nan, nan, ..., nan, nan, nan]]], dtype=float32), 0],\n      dtype=object), array([array([[[nan, nan, nan, ..., nan, nan, nan],\n               [nan, nan, nan, ..., nan, nan, nan],\n               [nan, nan, nan, ..., nan, nan, nan],\n               ...,\n               [nan, nan, nan, ..., nan, nan, nan],\n               [nan, nan, nan, ..., nan, nan, nan],\n               [nan, nan, nan, ..., nan, nan, nan]],\n\n              [[nan, nan, nan, ..., nan, nan, nan],\n               [nan, nan, nan, ..., nan, nan, nan],\n               [nan, nan, nan, ..., nan, nan, nan],\n               ...,\n               [nan, nan, nan, ..., nan, nan, nan],\n               [nan, nan, nan, ..., nan, nan, nan],\n               [nan, nan, nan, ..., nan, nan, nan]],\n\n              [[nan, nan, nan, ..., nan, nan, nan],\n               [nan, nan, nan, ..., nan, nan, nan],\n               [nan, nan, nan, ..., nan, nan, nan],\n               ...,\n               [nan, nan, nan, ..., nan, nan, nan],\n               [nan, nan, nan, ..., nan, nan, nan],\n               [nan, nan, nan, ..., nan, nan, nan]]], dtype=float32), 0],\n      dtype=object), array([array([[[nan, nan, nan, ..., nan, nan, nan],\n               [nan, nan, nan, ..., nan, nan, nan],\n               [nan, nan, nan, ..., nan, nan, nan],\n               ...,\n               [nan, nan, nan, ..., nan, nan, nan],\n               [nan, nan, nan, ..., nan, nan, nan],\n               [nan, nan, nan, ..., nan, nan, nan]],\n\n              [[nan, nan, nan, ..., nan, nan, nan],\n               [nan, nan, nan, ..., nan, nan, nan],\n               [nan, nan, nan, ..., nan, nan, nan],\n               ...,\n               [nan, nan, nan, ..., nan, nan, nan],\n               [nan, nan, nan, ..., nan, nan, nan],\n               [nan, nan, nan, ..., nan, nan, nan]],\n\n              [[nan, nan, nan, ..., nan, nan, nan],\n               [nan, nan, nan, ..., nan, nan, nan],\n               [nan, nan, nan, ..., nan, nan, nan],\n               ...,\n               [nan, nan, nan, ..., nan, nan, nan],\n               [nan, nan, nan, ..., nan, nan, nan],\n               [nan, nan, nan, ..., nan, nan, nan]]], dtype=float32), 0],\n      dtype=object))"
          ]
        }
      ]
    }
  ]
}